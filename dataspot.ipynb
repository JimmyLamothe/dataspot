{
 "cells": [
  {
   "cell_type": "markdown",
   "metadata": {},
   "source": [
    "# Learn Data Science with Spotify\n",
    "Welcome! This tutorial is a complement to the textbook for the EdX course Data 8.1x, Data Science: Computational Thinking with Python. Since the textbook uses a custom Tables object instead of a standard Pandas dataframe, I thought it would be fun to show how to do the same operations in Pandas. We'll use your own Spotify listening history as a source of data, so you might learn something about your music tastes at the same time.\n",
    "\n",
    "You can also follow it independently as a simple introduction to working with Pandas and learn some basic concepts of data science.\n",
    "\n",
    "This is a Jupyter notebook, another standard data science tool. You can find tutorials online, but the basics are simple: cells contain text or code and can be modified.  You can execute code in the cells by selecting it and pressing the play button or shift-enter. If a cell fails to execute, it's usually because you didn't execute necessary code in a preceding cell. For this reason, it's usually best to execute all cells in order."
   ]
  },
  {
   "cell_type": "markdown",
   "metadata": {},
   "source": [
    "Before we get started, we need to do a bit of setup. First, let's import pandas and numpy, two standard data science packages for Python. Run the following cell (and all future code cells as you come to them):"
   ]
  },
  {
   "cell_type": "code",
   "execution_count": 1,
   "metadata": {},
   "outputs": [],
   "source": [
    "import pandas as pd\n",
    "import numpy as np"
   ]
  },
  {
   "cell_type": "markdown",
   "metadata": {},
   "source": [
    "Next, we need to get your music history from Spotify. When you run the following cell, Spotify will ask you for permission for our app to access your top artists from your listening history and your followed artists. If you say yes, the app will download your top tracks and followed artists and convert the data into CSV format. If you prefer to skip this step, you can use the data from my own listening history.\n",
    "\n",
    "Note that you only need to run the following cell once to create the CSV file, or again if you want to update the file with your latest history.\n",
    "\n",
    "If you prefer the app to only use your followed artists or your top artists, you can modify the cell below with a keyword argument. For example:\n",
    "\n",
    "- `user_followed_csv(top=False)` will only get your followed artists\n",
    "- `user_followed_csv(followed=False)` will only get your top artists"
   ]
  },
  {
   "cell_type": "code",
   "execution_count": 2,
   "metadata": {},
   "outputs": [
    {
     "name": "stdout",
     "output_type": "stream",
     "text": [
      "Configuration Succesful\n",
      "Configuration Succesful\n"
     ]
    }
   ],
   "source": [
    "from dataspot import user_artists_csv\n",
    "user_artists_csv()"
   ]
  },
  {
   "cell_type": "markdown",
   "metadata": {},
   "source": [
    "Now that we have our CSV file, let's load it into Pandas as a DataFrame:"
   ]
  },
  {
   "cell_type": "code",
   "execution_count": 3,
   "metadata": {},
   "outputs": [],
   "source": [
    "with open('data/user_artists.csv', 'r') as csv_file:\n",
    "    user_artists = pd.read_csv(csv_file, index_col='name')"
   ]
  },
  {
   "cell_type": "markdown",
   "metadata": {},
   "source": [
    "Good! We should now have everything we need to start following the textbook."
   ]
  },
  {
   "cell_type": "markdown",
   "metadata": {},
   "source": [
    "## Chapter 3.4\n",
    "We'll pick things up at [chapter 3.4](https://www.inferentialthinking.com/chapters/03/4/Introduction_to_Tables.html), which introduces the concept of tables. The equivalent in Pandas is called a DataFrame. Let's see what it looks like in a Jupyter notebook by running the following cell:"
   ]
  },
  {
   "cell_type": "code",
   "execution_count": 4,
   "metadata": {},
   "outputs": [
    {
     "data": {
      "text/html": [
       "<div>\n",
       "<style scoped>\n",
       "    .dataframe tbody tr th:only-of-type {\n",
       "        vertical-align: middle;\n",
       "    }\n",
       "\n",
       "    .dataframe tbody tr th {\n",
       "        vertical-align: top;\n",
       "    }\n",
       "\n",
       "    .dataframe thead th {\n",
       "        text-align: right;\n",
       "    }\n",
       "</style>\n",
       "<table border=\"1\" class=\"dataframe\">\n",
       "  <thead>\n",
       "    <tr style=\"text-align: right;\">\n",
       "      <th></th>\n",
       "      <th>followers</th>\n",
       "      <th>popularity</th>\n",
       "      <th>total_genres</th>\n",
       "      <th>genre_0</th>\n",
       "      <th>genre_1</th>\n",
       "      <th>genre_2</th>\n",
       "      <th>genre_3</th>\n",
       "      <th>genre_4</th>\n",
       "      <th>genre_5</th>\n",
       "      <th>genre_6</th>\n",
       "      <th>...</th>\n",
       "      <th>genre_12</th>\n",
       "      <th>genre_13</th>\n",
       "      <th>genre_14</th>\n",
       "      <th>genre_15</th>\n",
       "      <th>genre_16</th>\n",
       "      <th>genre_17</th>\n",
       "      <th>genre_18</th>\n",
       "      <th>genre_19</th>\n",
       "      <th>id</th>\n",
       "      <th>uri</th>\n",
       "    </tr>\n",
       "    <tr>\n",
       "      <th>name</th>\n",
       "      <th></th>\n",
       "      <th></th>\n",
       "      <th></th>\n",
       "      <th></th>\n",
       "      <th></th>\n",
       "      <th></th>\n",
       "      <th></th>\n",
       "      <th></th>\n",
       "      <th></th>\n",
       "      <th></th>\n",
       "      <th></th>\n",
       "      <th></th>\n",
       "      <th></th>\n",
       "      <th></th>\n",
       "      <th></th>\n",
       "      <th></th>\n",
       "      <th></th>\n",
       "      <th></th>\n",
       "      <th></th>\n",
       "      <th></th>\n",
       "      <th></th>\n",
       "    </tr>\n",
       "  </thead>\n",
       "  <tbody>\n",
       "    <tr>\n",
       "      <th>Kamaal Williams</th>\n",
       "      <td>58205</td>\n",
       "      <td>46</td>\n",
       "      <td>4</td>\n",
       "      <td>indie jazz</td>\n",
       "      <td>indie soul</td>\n",
       "      <td>neo r&amp;b</td>\n",
       "      <td>uk contemporary jazz</td>\n",
       "      <td>NaN</td>\n",
       "      <td>NaN</td>\n",
       "      <td>NaN</td>\n",
       "      <td>...</td>\n",
       "      <td>NaN</td>\n",
       "      <td>NaN</td>\n",
       "      <td>NaN</td>\n",
       "      <td>NaN</td>\n",
       "      <td>NaN</td>\n",
       "      <td>NaN</td>\n",
       "      <td>NaN</td>\n",
       "      <td>NaN</td>\n",
       "      <td>01mXk9IDlVczWwZvVHAiIS</td>\n",
       "      <td>spotify:artist:01mXk9IDlVczWwZvVHAiIS</td>\n",
       "    </tr>\n",
       "    <tr>\n",
       "      <th>Madison McFerrin</th>\n",
       "      <td>38447</td>\n",
       "      <td>47</td>\n",
       "      <td>5</td>\n",
       "      <td>a cappella</td>\n",
       "      <td>alternative r&amp;b</td>\n",
       "      <td>indie jazz</td>\n",
       "      <td>indie soul</td>\n",
       "      <td>neo r&amp;b</td>\n",
       "      <td>NaN</td>\n",
       "      <td>NaN</td>\n",
       "      <td>...</td>\n",
       "      <td>NaN</td>\n",
       "      <td>NaN</td>\n",
       "      <td>NaN</td>\n",
       "      <td>NaN</td>\n",
       "      <td>NaN</td>\n",
       "      <td>NaN</td>\n",
       "      <td>NaN</td>\n",
       "      <td>NaN</td>\n",
       "      <td>02zPEtdzUWnPToEVLRiQ7e</td>\n",
       "      <td>spotify:artist:02zPEtdzUWnPToEVLRiQ7e</td>\n",
       "    </tr>\n",
       "    <tr>\n",
       "      <th>Scott Walker</th>\n",
       "      <td>94142</td>\n",
       "      <td>49</td>\n",
       "      <td>10</td>\n",
       "      <td>art pop</td>\n",
       "      <td>art rock</td>\n",
       "      <td>baroque pop</td>\n",
       "      <td>dance rock</td>\n",
       "      <td>experimental</td>\n",
       "      <td>experimental rock</td>\n",
       "      <td>freak folk</td>\n",
       "      <td>...</td>\n",
       "      <td>NaN</td>\n",
       "      <td>NaN</td>\n",
       "      <td>NaN</td>\n",
       "      <td>NaN</td>\n",
       "      <td>NaN</td>\n",
       "      <td>NaN</td>\n",
       "      <td>NaN</td>\n",
       "      <td>NaN</td>\n",
       "      <td>04tBaW21jyUfeP5iqiKBVq</td>\n",
       "      <td>spotify:artist:04tBaW21jyUfeP5iqiKBVq</td>\n",
       "    </tr>\n",
       "    <tr>\n",
       "      <th>Jerico</th>\n",
       "      <td>168</td>\n",
       "      <td>2</td>\n",
       "      <td>1</td>\n",
       "      <td>doujin</td>\n",
       "      <td>NaN</td>\n",
       "      <td>NaN</td>\n",
       "      <td>NaN</td>\n",
       "      <td>NaN</td>\n",
       "      <td>NaN</td>\n",
       "      <td>NaN</td>\n",
       "      <td>...</td>\n",
       "      <td>NaN</td>\n",
       "      <td>NaN</td>\n",
       "      <td>NaN</td>\n",
       "      <td>NaN</td>\n",
       "      <td>NaN</td>\n",
       "      <td>NaN</td>\n",
       "      <td>NaN</td>\n",
       "      <td>NaN</td>\n",
       "      <td>050aWtsntLl4HdCJSoCNDa</td>\n",
       "      <td>spotify:artist:050aWtsntLl4HdCJSoCNDa</td>\n",
       "    </tr>\n",
       "    <tr>\n",
       "      <th>CocoRosie</th>\n",
       "      <td>297716</td>\n",
       "      <td>50</td>\n",
       "      <td>4</td>\n",
       "      <td>art pop</td>\n",
       "      <td>folktronica</td>\n",
       "      <td>freak folk</td>\n",
       "      <td>new weird america</td>\n",
       "      <td>NaN</td>\n",
       "      <td>NaN</td>\n",
       "      <td>NaN</td>\n",
       "      <td>...</td>\n",
       "      <td>NaN</td>\n",
       "      <td>NaN</td>\n",
       "      <td>NaN</td>\n",
       "      <td>NaN</td>\n",
       "      <td>NaN</td>\n",
       "      <td>NaN</td>\n",
       "      <td>NaN</td>\n",
       "      <td>NaN</td>\n",
       "      <td>05fo024EFotg9songSENOZ</td>\n",
       "      <td>spotify:artist:05fo024EFotg9songSENOZ</td>\n",
       "    </tr>\n",
       "    <tr>\n",
       "      <th>...</th>\n",
       "      <td>...</td>\n",
       "      <td>...</td>\n",
       "      <td>...</td>\n",
       "      <td>...</td>\n",
       "      <td>...</td>\n",
       "      <td>...</td>\n",
       "      <td>...</td>\n",
       "      <td>...</td>\n",
       "      <td>...</td>\n",
       "      <td>...</td>\n",
       "      <td>...</td>\n",
       "      <td>...</td>\n",
       "      <td>...</td>\n",
       "      <td>...</td>\n",
       "      <td>...</td>\n",
       "      <td>...</td>\n",
       "      <td>...</td>\n",
       "      <td>...</td>\n",
       "      <td>...</td>\n",
       "      <td>...</td>\n",
       "      <td>...</td>\n",
       "    </tr>\n",
       "    <tr>\n",
       "      <th>Free Nationals</th>\n",
       "      <td>121298</td>\n",
       "      <td>64</td>\n",
       "      <td>2</td>\n",
       "      <td>alternative r&amp;b</td>\n",
       "      <td>indie soul</td>\n",
       "      <td>NaN</td>\n",
       "      <td>NaN</td>\n",
       "      <td>NaN</td>\n",
       "      <td>NaN</td>\n",
       "      <td>NaN</td>\n",
       "      <td>...</td>\n",
       "      <td>NaN</td>\n",
       "      <td>NaN</td>\n",
       "      <td>NaN</td>\n",
       "      <td>NaN</td>\n",
       "      <td>NaN</td>\n",
       "      <td>NaN</td>\n",
       "      <td>NaN</td>\n",
       "      <td>NaN</td>\n",
       "      <td>4596e2d3KmYzAeVenjCxfj</td>\n",
       "      <td>spotify:artist:4596e2d3KmYzAeVenjCxfj</td>\n",
       "    </tr>\n",
       "    <tr>\n",
       "      <th>BADBADNOTGOOD</th>\n",
       "      <td>476274</td>\n",
       "      <td>63</td>\n",
       "      <td>5</td>\n",
       "      <td>alternative hip hop</td>\n",
       "      <td>canadian modern jazz</td>\n",
       "      <td>escape room</td>\n",
       "      <td>funk</td>\n",
       "      <td>indie soul</td>\n",
       "      <td>NaN</td>\n",
       "      <td>NaN</td>\n",
       "      <td>...</td>\n",
       "      <td>NaN</td>\n",
       "      <td>NaN</td>\n",
       "      <td>NaN</td>\n",
       "      <td>NaN</td>\n",
       "      <td>NaN</td>\n",
       "      <td>NaN</td>\n",
       "      <td>NaN</td>\n",
       "      <td>NaN</td>\n",
       "      <td>65dGLGjkw3UbddUg2GKQoZ</td>\n",
       "      <td>spotify:artist:65dGLGjkw3UbddUg2GKQoZ</td>\n",
       "    </tr>\n",
       "    <tr>\n",
       "      <th>King Geedorah</th>\n",
       "      <td>93479</td>\n",
       "      <td>55</td>\n",
       "      <td>3</td>\n",
       "      <td>alternative hip hop</td>\n",
       "      <td>hardcore hip hop</td>\n",
       "      <td>hip hop</td>\n",
       "      <td>NaN</td>\n",
       "      <td>NaN</td>\n",
       "      <td>NaN</td>\n",
       "      <td>NaN</td>\n",
       "      <td>...</td>\n",
       "      <td>NaN</td>\n",
       "      <td>NaN</td>\n",
       "      <td>NaN</td>\n",
       "      <td>NaN</td>\n",
       "      <td>NaN</td>\n",
       "      <td>NaN</td>\n",
       "      <td>NaN</td>\n",
       "      <td>NaN</td>\n",
       "      <td>77AKJs9SJqxHXbPgtJPKRa</td>\n",
       "      <td>spotify:artist:77AKJs9SJqxHXbPgtJPKRa</td>\n",
       "    </tr>\n",
       "    <tr>\n",
       "      <th>Les Hommes</th>\n",
       "      <td>2907</td>\n",
       "      <td>29</td>\n",
       "      <td>1</td>\n",
       "      <td>nu jazz</td>\n",
       "      <td>NaN</td>\n",
       "      <td>NaN</td>\n",
       "      <td>NaN</td>\n",
       "      <td>NaN</td>\n",
       "      <td>NaN</td>\n",
       "      <td>NaN</td>\n",
       "      <td>...</td>\n",
       "      <td>NaN</td>\n",
       "      <td>NaN</td>\n",
       "      <td>NaN</td>\n",
       "      <td>NaN</td>\n",
       "      <td>NaN</td>\n",
       "      <td>NaN</td>\n",
       "      <td>NaN</td>\n",
       "      <td>NaN</td>\n",
       "      <td>2Cvdhz7BUQbO4LxeBBQM8s</td>\n",
       "      <td>spotify:artist:2Cvdhz7BUQbO4LxeBBQM8s</td>\n",
       "    </tr>\n",
       "    <tr>\n",
       "      <th>Ghostface Killah</th>\n",
       "      <td>575270</td>\n",
       "      <td>65</td>\n",
       "      <td>7</td>\n",
       "      <td>alternative hip hop</td>\n",
       "      <td>east coast hip hop</td>\n",
       "      <td>gangster rap</td>\n",
       "      <td>hardcore hip hop</td>\n",
       "      <td>hip hop</td>\n",
       "      <td>rap</td>\n",
       "      <td>southern hip hop</td>\n",
       "      <td>...</td>\n",
       "      <td>NaN</td>\n",
       "      <td>NaN</td>\n",
       "      <td>NaN</td>\n",
       "      <td>NaN</td>\n",
       "      <td>NaN</td>\n",
       "      <td>NaN</td>\n",
       "      <td>NaN</td>\n",
       "      <td>NaN</td>\n",
       "      <td>6FD0unjzGQhX3b6eMccMJe</td>\n",
       "      <td>spotify:artist:6FD0unjzGQhX3b6eMccMJe</td>\n",
       "    </tr>\n",
       "  </tbody>\n",
       "</table>\n",
       "<p>715 rows × 25 columns</p>\n",
       "</div>"
      ],
      "text/plain": [
       "                  followers  popularity  total_genres              genre_0  \\\n",
       "name                                                                         \n",
       "Kamaal Williams       58205          46             4           indie jazz   \n",
       "Madison McFerrin      38447          47             5           a cappella   \n",
       "Scott Walker          94142          49            10              art pop   \n",
       "Jerico                  168           2             1               doujin   \n",
       "CocoRosie            297716          50             4              art pop   \n",
       "...                     ...         ...           ...                  ...   \n",
       "Free Nationals       121298          64             2      alternative r&b   \n",
       "BADBADNOTGOOD        476274          63             5  alternative hip hop   \n",
       "King Geedorah         93479          55             3  alternative hip hop   \n",
       "Les Hommes             2907          29             1              nu jazz   \n",
       "Ghostface Killah     575270          65             7  alternative hip hop   \n",
       "\n",
       "                               genre_1       genre_2               genre_3  \\\n",
       "name                                                                         \n",
       "Kamaal Williams             indie soul       neo r&b  uk contemporary jazz   \n",
       "Madison McFerrin       alternative r&b    indie jazz            indie soul   \n",
       "Scott Walker                  art rock   baroque pop            dance rock   \n",
       "Jerico                             NaN           NaN                   NaN   \n",
       "CocoRosie                  folktronica    freak folk     new weird america   \n",
       "...                                ...           ...                   ...   \n",
       "Free Nationals              indie soul           NaN                   NaN   \n",
       "BADBADNOTGOOD     canadian modern jazz   escape room                  funk   \n",
       "King Geedorah         hardcore hip hop       hip hop                   NaN   \n",
       "Les Hommes                         NaN           NaN                   NaN   \n",
       "Ghostface Killah    east coast hip hop  gangster rap      hardcore hip hop   \n",
       "\n",
       "                       genre_4            genre_5           genre_6  ...  \\\n",
       "name                                                                 ...   \n",
       "Kamaal Williams            NaN                NaN               NaN  ...   \n",
       "Madison McFerrin       neo r&b                NaN               NaN  ...   \n",
       "Scott Walker      experimental  experimental rock        freak folk  ...   \n",
       "Jerico                     NaN                NaN               NaN  ...   \n",
       "CocoRosie                  NaN                NaN               NaN  ...   \n",
       "...                        ...                ...               ...  ...   \n",
       "Free Nationals             NaN                NaN               NaN  ...   \n",
       "BADBADNOTGOOD       indie soul                NaN               NaN  ...   \n",
       "King Geedorah              NaN                NaN               NaN  ...   \n",
       "Les Hommes                 NaN                NaN               NaN  ...   \n",
       "Ghostface Killah       hip hop                rap  southern hip hop  ...   \n",
       "\n",
       "                 genre_12 genre_13 genre_14 genre_15 genre_16 genre_17  \\\n",
       "name                                                                     \n",
       "Kamaal Williams       NaN      NaN      NaN      NaN      NaN      NaN   \n",
       "Madison McFerrin      NaN      NaN      NaN      NaN      NaN      NaN   \n",
       "Scott Walker          NaN      NaN      NaN      NaN      NaN      NaN   \n",
       "Jerico                NaN      NaN      NaN      NaN      NaN      NaN   \n",
       "CocoRosie             NaN      NaN      NaN      NaN      NaN      NaN   \n",
       "...                   ...      ...      ...      ...      ...      ...   \n",
       "Free Nationals        NaN      NaN      NaN      NaN      NaN      NaN   \n",
       "BADBADNOTGOOD         NaN      NaN      NaN      NaN      NaN      NaN   \n",
       "King Geedorah         NaN      NaN      NaN      NaN      NaN      NaN   \n",
       "Les Hommes            NaN      NaN      NaN      NaN      NaN      NaN   \n",
       "Ghostface Killah      NaN      NaN      NaN      NaN      NaN      NaN   \n",
       "\n",
       "                 genre_18 genre_19                      id  \\\n",
       "name                                                         \n",
       "Kamaal Williams       NaN      NaN  01mXk9IDlVczWwZvVHAiIS   \n",
       "Madison McFerrin      NaN      NaN  02zPEtdzUWnPToEVLRiQ7e   \n",
       "Scott Walker          NaN      NaN  04tBaW21jyUfeP5iqiKBVq   \n",
       "Jerico                NaN      NaN  050aWtsntLl4HdCJSoCNDa   \n",
       "CocoRosie             NaN      NaN  05fo024EFotg9songSENOZ   \n",
       "...                   ...      ...                     ...   \n",
       "Free Nationals        NaN      NaN  4596e2d3KmYzAeVenjCxfj   \n",
       "BADBADNOTGOOD         NaN      NaN  65dGLGjkw3UbddUg2GKQoZ   \n",
       "King Geedorah         NaN      NaN  77AKJs9SJqxHXbPgtJPKRa   \n",
       "Les Hommes            NaN      NaN  2Cvdhz7BUQbO4LxeBBQM8s   \n",
       "Ghostface Killah      NaN      NaN  6FD0unjzGQhX3b6eMccMJe   \n",
       "\n",
       "                                                    uri  \n",
       "name                                                     \n",
       "Kamaal Williams   spotify:artist:01mXk9IDlVczWwZvVHAiIS  \n",
       "Madison McFerrin  spotify:artist:02zPEtdzUWnPToEVLRiQ7e  \n",
       "Scott Walker      spotify:artist:04tBaW21jyUfeP5iqiKBVq  \n",
       "Jerico            spotify:artist:050aWtsntLl4HdCJSoCNDa  \n",
       "CocoRosie         spotify:artist:05fo024EFotg9songSENOZ  \n",
       "...                                                 ...  \n",
       "Free Nationals    spotify:artist:4596e2d3KmYzAeVenjCxfj  \n",
       "BADBADNOTGOOD     spotify:artist:65dGLGjkw3UbddUg2GKQoZ  \n",
       "King Geedorah     spotify:artist:77AKJs9SJqxHXbPgtJPKRa  \n",
       "Les Hommes        spotify:artist:2Cvdhz7BUQbO4LxeBBQM8s  \n",
       "Ghostface Killah  spotify:artist:6FD0unjzGQhX3b6eMccMJe  \n",
       "\n",
       "[715 rows x 25 columns]"
      ]
     },
     "execution_count": 4,
     "metadata": {},
     "output_type": "execute_result"
    }
   ],
   "source": [
    "user_artists"
   ]
  },
  {
   "cell_type": "markdown",
   "metadata": {},
   "source": [
    "Unless you barely listen to Spotify, the notebook probably can't show all the data at once. It should display the first five and last five rows of artists, as well as the first ten and last ten columns of data.\n",
    "\n",
    "If you don't recognize the artists, it's possible the app failed to download your data from Spotify and you are using the default data from my own listening history. Make sure you ran the cell with the command `user_followed_csv()` (after executing all previous code cells in order). If that cell failed to execute properly, I'm sorry. You'll have to make do with the default data.\n",
    "\n",
    "You might notice that the `name` column is in bold. That's because it's the index column, which we specified with the kwarg `index_col` when loading the CSV file. This will be useful later."
   ]
  },
  {
   "cell_type": "markdown",
   "metadata": {},
   "source": [
    "Panda's`head` method is similar to Table's `show` method in the textbook. By default, it will display the first five rows:"
   ]
  },
  {
   "cell_type": "code",
   "execution_count": null,
   "metadata": {},
   "outputs": [],
   "source": [
    "user_artists.head()"
   ]
  },
  {
   "cell_type": "markdown",
   "metadata": {},
   "source": [
    "If you give it an integer, it will display that many rows:"
   ]
  },
  {
   "cell_type": "code",
   "execution_count": null,
   "metadata": {},
   "outputs": [],
   "source": [
    "user_artists.head(2)"
   ]
  },
  {
   "cell_type": "markdown",
   "metadata": {},
   "source": [
    "Pandas also offers a `tail` method to show the last rows instead of the first. Remember, you can change the code in the notebook to test it out for yourself. Try a different value than the default 8 we've given:"
   ]
  },
  {
   "cell_type": "code",
   "execution_count": null,
   "metadata": {},
   "outputs": [],
   "source": [
    "user_artists.tail(8)"
   ]
  },
  {
   "cell_type": "markdown",
   "metadata": {},
   "source": [
    "You can select a single column by index using square brackets without changing the original DataFrame. This is equivalent to the Table `select` method in the textbook:"
   ]
  },
  {
   "cell_type": "code",
   "execution_count": null,
   "metadata": {},
   "outputs": [],
   "source": [
    "user_artists['followers']"
   ]
  },
  {
   "cell_type": "markdown",
   "metadata": {},
   "source": [
    "You'll notice Pandas gives you some information about the column you selected: it's name, the number of rows, and the Pandas data type of all entries."
   ]
  },
  {
   "cell_type": "markdown",
   "metadata": {},
   "source": [
    "The original DataFrame is unchanged:"
   ]
  },
  {
   "cell_type": "code",
   "execution_count": null,
   "metadata": {},
   "outputs": [],
   "source": [
    "user_artists"
   ]
  },
  {
   "cell_type": "markdown",
   "metadata": {},
   "source": [
    "You can also select a single column using dot notation `user_artists.followers`\n",
    "\n",
    "To select multiple columns, you have to pass a list of column names. Watch out for the double brackets here, which indicate the list:"
   ]
  },
  {
   "cell_type": "code",
   "execution_count": null,
   "metadata": {},
   "outputs": [],
   "source": [
    "user_artists[['followers', 'popularity']]"
   ]
  },
  {
   "cell_type": "markdown",
   "metadata": {},
   "source": [
    "We can also drop columns we're not interested in for the moment with the `drop` method, which is similar to the method with the same name in the textbook. The simplest syntax is to pass a list of columns as a kwarg:"
   ]
  },
  {
   "cell_type": "code",
   "execution_count": null,
   "metadata": {},
   "outputs": [],
   "source": [
    "user_artists.drop(columns=['followers'])"
   ]
  },
  {
   "cell_type": "markdown",
   "metadata": {},
   "source": [
    "Again, none of these methods modify the original DataFrame. If we want to work on a modified version of the DataFrame, we have to assign it a variable name. For example, if we wanted to work on music genres, we could save a DataFrame that only contained that information:"
   ]
  },
  {
   "cell_type": "code",
   "execution_count": null,
   "metadata": {},
   "outputs": [],
   "source": [
    "music_genres = user_artists.drop(columns=['followers','popularity'])"
   ]
  },
  {
   "cell_type": "markdown",
   "metadata": {},
   "source": [
    "Now, we can refew to this new DataFrame anytime we want:"
   ]
  },
  {
   "cell_type": "code",
   "execution_count": null,
   "metadata": {},
   "outputs": [],
   "source": [
    "music_genres.head()"
   ]
  },
  {
   "cell_type": "markdown",
   "metadata": {},
   "source": [
    "The original table remains unchanged. Let's use it to create a simple table to study the popularity of your favorite artists:"
   ]
  },
  {
   "cell_type": "code",
   "execution_count": null,
   "metadata": {},
   "outputs": [],
   "source": [
    "artist_popularity = user_artists[['popularity','followers']]\n",
    "artist_popularity"
   ]
  },
  {
   "cell_type": "markdown",
   "metadata": {},
   "source": [
    "Of course, this table would be much more interesting if it were sorted! We can do this with the `sort_values` method, which is equivalent to the `sort` method in the textbook:"
   ]
  },
  {
   "cell_type": "code",
   "execution_count": null,
   "metadata": {},
   "outputs": [],
   "source": [
    "artist_popularity.sort_values('popularity')"
   ]
  },
  {
   "cell_type": "markdown",
   "metadata": {},
   "source": [
    "Pandas has another sort function, `sort_index`, which always sorts according to the index column we specified when creating the DataFrame:"
   ]
  },
  {
   "cell_type": "code",
   "execution_count": null,
   "metadata": {},
   "outputs": [],
   "source": [
    "artist_popularity.sort_index()"
   ]
  },
  {
   "cell_type": "markdown",
   "metadata": {},
   "source": [
    "Let's sort by popularity again, but this time, we'll put the most popular artists at the top of the list. In the textbook, the kwarg for this is `descending=True`, but in Pandas, we'll use `ascending=False` instead."
   ]
  },
  {
   "cell_type": "code",
   "execution_count": null,
   "metadata": {},
   "outputs": [],
   "source": [
    "artist_popularity.sort_values('popularity', ascending=False)"
   ]
  },
  {
   "cell_type": "markdown",
   "metadata": {},
   "source": [
    "Maybe you'll notice that some of your artists have the same popularity, but a different number of followers. We can sort by multiple columns to break the ties using the number of followers:"
   ]
  },
  {
   "cell_type": "code",
   "execution_count": null,
   "metadata": {},
   "outputs": [],
   "source": [
    "artist_popularity.sort_values(['popularity','followers'], ascending=False)"
   ]
  },
  {
   "cell_type": "markdown",
   "metadata": {},
   "source": [
    "Again, the `sort_value` method doesn't change the original DataFrame. We can assign the new one a name, as for the previous methods, but we can also use the `in_place` kwarg to sort the original. The same kwarg can be used with the `sort_index` method."
   ]
  },
  {
   "cell_type": "code",
   "execution_count": null,
   "metadata": {},
   "outputs": [],
   "source": [
    "artist_popularity.sort_values(['popularity','followers'], ascending=False, inplace=True)\n",
    "artist_popularity"
   ]
  },
  {
   "cell_type": "markdown",
   "metadata": {},
   "source": [
    "There are different ways to filter the data according to certain values, similarly to the `where` method in the textbook. One of the simplest is called boolean indexing, where we pass a condition to the DataFrame and only the rows where the value is True are returned:"
   ]
  },
  {
   "cell_type": "code",
   "execution_count": null,
   "metadata": {},
   "outputs": [],
   "source": [
    "artist_popularity[artist_popularity.followers > 50000] #Using dot notation for clarity. Alternate syntax below:\n",
    "#artist_popularity[artist_popularity['followers'] > 50000]"
   ]
  },
  {
   "cell_type": "markdown",
   "metadata": {},
   "source": [
    "You can apply multiple conditions. Link them with the `&` operator. Don't forget to put each expression in parentheses, because the `&` operator has priority over equality comparisons. "
   ]
  },
  {
   "cell_type": "code",
   "execution_count": null,
   "metadata": {},
   "outputs": [],
   "source": [
    "artist_popularity[(artist_popularity.followers > 50000) & (artist_popularity.followers < 200000)]"
   ]
  },
  {
   "cell_type": "markdown",
   "metadata": {},
   "source": [
    "Let's play arond with what we've learned a bit. Unless we have similar musical tastes, you'll have to modify the following cells according to your own Spotify data. This is on purpose! Doing things yourself is a better learning experience for most people."
   ]
  },
  {
   "cell_type": "markdown",
   "metadata": {},
   "source": [
    "Let's start by searching for our favorite artist. For me, that's the wonderful Jori Hulkkonen. Change the value of the following cell to your own favorite. Since we'll be exploring music genres, we'll use the original DataFrame, which is still intact. Since we've used the 'name' column of our CSV file as the index, we'll use `user_artists.index` or `user_artists['index'] instead of `user_artists.name` or `user_artists['name']`."
   ]
  },
  {
   "cell_type": "code",
   "execution_count": null,
   "metadata": {},
   "outputs": [],
   "source": [
    "user_artists[user_artists.index == 'Jori Hulkkonen']"
   ]
  },
  {
   "cell_type": "markdown",
   "metadata": {},
   "source": [
    "You should have a single row matching your favorite artist. This is actually a Pandas object known as a Series. As you might have guessed, a DataFrame is comprised of many Series."
   ]
  },
  {
   "cell_type": "markdown",
   "metadata": {},
   "source": [
    " What genre does your favorite artist belong to according to Spotify? In my case, there's only one genre listed, but your artist might have many genres listed in the Series. Jori Hulkkonen's is listed in the `genre_0` column: \"finnish electro\". Sounds pretty unique! I wonder if I listen to any other artists in this genre? You probably don't, so replace `'finnish electro'` with whatever genre you see above that best fits your favorite artist. If you're not sure, just pick whatever is in the `genre_0` column. Make sure to keep the exact spelling or it won't work."
   ]
  },
  {
   "cell_type": "code",
   "execution_count": null,
   "metadata": {},
   "outputs": [],
   "source": [
    "user_artists[user_artists.genre_0 == 'finnish electro']"
   ]
  },
  {
   "cell_type": "markdown",
   "metadata": {},
   "source": [
    "Can you believe I listen to eight other Finnish electro artists? And I'm actually Canadian. They were all first suggested to me by Spotify, apart from Jori Hulkkonen himself. Maybe this classification is part of the reason why? We'd have to see their algorithms to know for sure, but it's a possiblity."
   ]
  },
  {
   "cell_type": "markdown",
   "metadata": {},
   "source": [
    "What about you? Are you surprised by how many or how few artists came up? Three of my \"finnish electro\" artists only showed up when I changed the cell above to search the `genre_1` column. Try that and see what comes up. There are ways to search all the columns at once, of course, but they require methods we haven't seen yet, so we won't use them here. If you like learning on your own, feel free to google it and try it out in the cell below."
   ]
  },
  {
   "cell_type": "code",
   "execution_count": null,
   "metadata": {},
   "outputs": [],
   "source": []
  },
  {
   "cell_type": "markdown",
   "metadata": {},
   "source": [
    "The previous cell is blank on purpose, because I hope you'll try to fill it out! The worse thing that can happen is you get an error message. Just modify your code and run it again until it works. If you're having trouble getting the syntax right, you can copy-paste code similar to what you're looking to do from elsewhere in the notebook and modify it to suit your needs. Good luck!"
   ]
  },
  {
   "cell_type": "code",
   "execution_count": null,
   "metadata": {},
   "outputs": [],
   "source": []
  }
 ],
 "metadata": {
  "kernelspec": {
   "display_name": "Python 3",
   "language": "python",
   "name": "python3"
  },
  "language_info": {
   "codemirror_mode": {
    "name": "ipython",
    "version": 3
   },
   "file_extension": ".py",
   "mimetype": "text/x-python",
   "name": "python",
   "nbconvert_exporter": "python",
   "pygments_lexer": "ipython3",
   "version": "3.9.1"
  }
 },
 "nbformat": 4,
 "nbformat_minor": 4
}

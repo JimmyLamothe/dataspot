{
 "cells": [
  {
   "cell_type": "markdown",
   "metadata": {},
   "source": [
    "# Learn Data Science with Spotify\n",
    "Welcome! This tutorial follows the EdX course Data 8.1x, Data Science: Computational Thinking with Python. It covers the basics of data science using your own Spotify listening history as a source of data to explore with Pandas and Numpy. You can follow it independently or as a complement to the course. It assumes basic familiarity with Python and Jupyter notebooks, which are explained in detail in the class.\n",
    "\n",
    "You can find tutorials for Jupyter notebooks online, but the basics are simple: Cells contain text or code and can be modified.  You can execute code in the cells by pressing the play button. If a cell fails to execute, it's usually because you didn't execute necessary code in a preceding cell. For this reason, it's usually best to execute all cells in order."
   ]
  },
  {
   "cell_type": "markdown",
   "metadata": {},
   "source": [
    "First, we need to import pandas and numpy, two classic data science packages for Python. Run the following cell (and all future code cells as you come to them):"
   ]
  },
  {
   "cell_type": "code",
   "execution_count": 1,
   "metadata": {},
   "outputs": [],
   "source": [
    "import pandas as pd\n",
    "import numpy as np"
   ]
  },
  {
   "cell_type": "markdown",
   "metadata": {},
   "source": [
    "Next, we need to get your music history from Spotify. When you run the following cell, Spotify will ask you for permission for our app to access your top artists from your listening history and your followed artists. If you say yes, the app will download your top tracks and followed artists and convert the data into CSV format. If you prefer to skip this step, you can use the data from my own listening history.\n",
    "\n",
    "Note that you only need to run the following cell once to create the CSV file, or again if you want to update the file with your latest history.\n",
    "\n",
    "If you prefer the app to only use your followed artists or your top artists, you can modify the cell below with a keyword argument. For example:\n",
    "\n",
    "- `user_followed_csv(top=False)` will only get your followed artists\n",
    "- `user_followed_csv(followed=False)` will only get your top artists"
   ]
  },
  {
   "cell_type": "code",
   "execution_count": 2,
   "metadata": {},
   "outputs": [
    {
     "name": "stdout",
     "output_type": "stream",
     "text": [
      "Configuration Succesful\n",
      "Configuration Succesful\n"
     ]
    }
   ],
   "source": [
    "from dataspot import user_followed_csv\n",
    "user_followed_csv()"
   ]
  },
  {
   "cell_type": "markdown",
   "metadata": {},
   "source": [
    "Now that we have our CSV file, we can load it into Pandas:"
   ]
  },
  {
   "cell_type": "code",
   "execution_count": 3,
   "metadata": {},
   "outputs": [],
   "source": [
    "with open('data/user_artists.csv', 'r') as csv_file:\n",
    "    user_artists = pd.read_csv(csv_file, index_col='name')"
   ]
  },
  {
   "cell_type": "markdown",
   "metadata": {},
   "source": [
    "Let's have a first look at the data with Panda's `head()` command, which previews the first five rows:"
   ]
  },
  {
   "cell_type": "code",
   "execution_count": 4,
   "metadata": {},
   "outputs": [
    {
     "data": {
      "text/html": [
       "<div>\n",
       "<style scoped>\n",
       "    .dataframe tbody tr th:only-of-type {\n",
       "        vertical-align: middle;\n",
       "    }\n",
       "\n",
       "    .dataframe tbody tr th {\n",
       "        vertical-align: top;\n",
       "    }\n",
       "\n",
       "    .dataframe thead th {\n",
       "        text-align: right;\n",
       "    }\n",
       "</style>\n",
       "<table border=\"1\" class=\"dataframe\">\n",
       "  <thead>\n",
       "    <tr style=\"text-align: right;\">\n",
       "      <th></th>\n",
       "      <th>followers</th>\n",
       "      <th>popularity</th>\n",
       "      <th>total_genres</th>\n",
       "      <th>genre_0</th>\n",
       "      <th>genre_1</th>\n",
       "      <th>genre_2</th>\n",
       "      <th>genre_3</th>\n",
       "      <th>genre_4</th>\n",
       "      <th>genre_5</th>\n",
       "      <th>genre_6</th>\n",
       "      <th>...</th>\n",
       "      <th>genre_12</th>\n",
       "      <th>genre_13</th>\n",
       "      <th>genre_14</th>\n",
       "      <th>genre_15</th>\n",
       "      <th>genre_16</th>\n",
       "      <th>genre_17</th>\n",
       "      <th>genre_18</th>\n",
       "      <th>genre_19</th>\n",
       "      <th>id</th>\n",
       "      <th>uri</th>\n",
       "    </tr>\n",
       "    <tr>\n",
       "      <th>name</th>\n",
       "      <th></th>\n",
       "      <th></th>\n",
       "      <th></th>\n",
       "      <th></th>\n",
       "      <th></th>\n",
       "      <th></th>\n",
       "      <th></th>\n",
       "      <th></th>\n",
       "      <th></th>\n",
       "      <th></th>\n",
       "      <th></th>\n",
       "      <th></th>\n",
       "      <th></th>\n",
       "      <th></th>\n",
       "      <th></th>\n",
       "      <th></th>\n",
       "      <th></th>\n",
       "      <th></th>\n",
       "      <th></th>\n",
       "      <th></th>\n",
       "      <th></th>\n",
       "    </tr>\n",
       "  </thead>\n",
       "  <tbody>\n",
       "    <tr>\n",
       "      <th>Kamaal Williams</th>\n",
       "      <td>58040</td>\n",
       "      <td>46</td>\n",
       "      <td>3</td>\n",
       "      <td>indie jazz</td>\n",
       "      <td>indie soul</td>\n",
       "      <td>uk contemporary jazz</td>\n",
       "      <td>NaN</td>\n",
       "      <td>NaN</td>\n",
       "      <td>NaN</td>\n",
       "      <td>NaN</td>\n",
       "      <td>...</td>\n",
       "      <td>NaN</td>\n",
       "      <td>NaN</td>\n",
       "      <td>NaN</td>\n",
       "      <td>NaN</td>\n",
       "      <td>NaN</td>\n",
       "      <td>NaN</td>\n",
       "      <td>NaN</td>\n",
       "      <td>NaN</td>\n",
       "      <td>01mXk9IDlVczWwZvVHAiIS</td>\n",
       "      <td>spotify:artist:01mXk9IDlVczWwZvVHAiIS</td>\n",
       "    </tr>\n",
       "    <tr>\n",
       "      <th>Madison McFerrin</th>\n",
       "      <td>38332</td>\n",
       "      <td>47</td>\n",
       "      <td>5</td>\n",
       "      <td>a cappella</td>\n",
       "      <td>alternative r&amp;b</td>\n",
       "      <td>indie jazz</td>\n",
       "      <td>indie soul</td>\n",
       "      <td>neo r&amp;b</td>\n",
       "      <td>NaN</td>\n",
       "      <td>NaN</td>\n",
       "      <td>...</td>\n",
       "      <td>NaN</td>\n",
       "      <td>NaN</td>\n",
       "      <td>NaN</td>\n",
       "      <td>NaN</td>\n",
       "      <td>NaN</td>\n",
       "      <td>NaN</td>\n",
       "      <td>NaN</td>\n",
       "      <td>NaN</td>\n",
       "      <td>02zPEtdzUWnPToEVLRiQ7e</td>\n",
       "      <td>spotify:artist:02zPEtdzUWnPToEVLRiQ7e</td>\n",
       "    </tr>\n",
       "    <tr>\n",
       "      <th>Scott Walker</th>\n",
       "      <td>93931</td>\n",
       "      <td>49</td>\n",
       "      <td>9</td>\n",
       "      <td>art pop</td>\n",
       "      <td>art rock</td>\n",
       "      <td>baroque pop</td>\n",
       "      <td>brill building pop</td>\n",
       "      <td>experimental</td>\n",
       "      <td>freak folk</td>\n",
       "      <td>melancholia</td>\n",
       "      <td>...</td>\n",
       "      <td>NaN</td>\n",
       "      <td>NaN</td>\n",
       "      <td>NaN</td>\n",
       "      <td>NaN</td>\n",
       "      <td>NaN</td>\n",
       "      <td>NaN</td>\n",
       "      <td>NaN</td>\n",
       "      <td>NaN</td>\n",
       "      <td>04tBaW21jyUfeP5iqiKBVq</td>\n",
       "      <td>spotify:artist:04tBaW21jyUfeP5iqiKBVq</td>\n",
       "    </tr>\n",
       "    <tr>\n",
       "      <th>Jerico</th>\n",
       "      <td>168</td>\n",
       "      <td>2</td>\n",
       "      <td>1</td>\n",
       "      <td>doujin</td>\n",
       "      <td>NaN</td>\n",
       "      <td>NaN</td>\n",
       "      <td>NaN</td>\n",
       "      <td>NaN</td>\n",
       "      <td>NaN</td>\n",
       "      <td>NaN</td>\n",
       "      <td>...</td>\n",
       "      <td>NaN</td>\n",
       "      <td>NaN</td>\n",
       "      <td>NaN</td>\n",
       "      <td>NaN</td>\n",
       "      <td>NaN</td>\n",
       "      <td>NaN</td>\n",
       "      <td>NaN</td>\n",
       "      <td>NaN</td>\n",
       "      <td>050aWtsntLl4HdCJSoCNDa</td>\n",
       "      <td>spotify:artist:050aWtsntLl4HdCJSoCNDa</td>\n",
       "    </tr>\n",
       "    <tr>\n",
       "      <th>CocoRosie</th>\n",
       "      <td>297371</td>\n",
       "      <td>49</td>\n",
       "      <td>4</td>\n",
       "      <td>art pop</td>\n",
       "      <td>folktronica</td>\n",
       "      <td>freak folk</td>\n",
       "      <td>new weird america</td>\n",
       "      <td>NaN</td>\n",
       "      <td>NaN</td>\n",
       "      <td>NaN</td>\n",
       "      <td>...</td>\n",
       "      <td>NaN</td>\n",
       "      <td>NaN</td>\n",
       "      <td>NaN</td>\n",
       "      <td>NaN</td>\n",
       "      <td>NaN</td>\n",
       "      <td>NaN</td>\n",
       "      <td>NaN</td>\n",
       "      <td>NaN</td>\n",
       "      <td>05fo024EFotg9songSENOZ</td>\n",
       "      <td>spotify:artist:05fo024EFotg9songSENOZ</td>\n",
       "    </tr>\n",
       "  </tbody>\n",
       "</table>\n",
       "<p>5 rows × 25 columns</p>\n",
       "</div>"
      ],
      "text/plain": [
       "                  followers  popularity  total_genres     genre_0  \\\n",
       "name                                                                \n",
       "Kamaal Williams       58040          46             3  indie jazz   \n",
       "Madison McFerrin      38332          47             5  a cappella   \n",
       "Scott Walker          93931          49             9     art pop   \n",
       "Jerico                  168           2             1      doujin   \n",
       "CocoRosie            297371          49             4     art pop   \n",
       "\n",
       "                          genre_1               genre_2             genre_3  \\\n",
       "name                                                                          \n",
       "Kamaal Williams        indie soul  uk contemporary jazz                 NaN   \n",
       "Madison McFerrin  alternative r&b            indie jazz          indie soul   \n",
       "Scott Walker             art rock           baroque pop  brill building pop   \n",
       "Jerico                        NaN                   NaN                 NaN   \n",
       "CocoRosie             folktronica            freak folk   new weird america   \n",
       "\n",
       "                       genre_4     genre_5      genre_6  ... genre_12  \\\n",
       "name                                                     ...            \n",
       "Kamaal Williams            NaN         NaN          NaN  ...      NaN   \n",
       "Madison McFerrin       neo r&b         NaN          NaN  ...      NaN   \n",
       "Scott Walker      experimental  freak folk  melancholia  ...      NaN   \n",
       "Jerico                     NaN         NaN          NaN  ...      NaN   \n",
       "CocoRosie                  NaN         NaN          NaN  ...      NaN   \n",
       "\n",
       "                 genre_13 genre_14 genre_15 genre_16 genre_17 genre_18  \\\n",
       "name                                                                     \n",
       "Kamaal Williams       NaN      NaN      NaN      NaN      NaN      NaN   \n",
       "Madison McFerrin      NaN      NaN      NaN      NaN      NaN      NaN   \n",
       "Scott Walker          NaN      NaN      NaN      NaN      NaN      NaN   \n",
       "Jerico                NaN      NaN      NaN      NaN      NaN      NaN   \n",
       "CocoRosie             NaN      NaN      NaN      NaN      NaN      NaN   \n",
       "\n",
       "                 genre_19                      id  \\\n",
       "name                                                \n",
       "Kamaal Williams       NaN  01mXk9IDlVczWwZvVHAiIS   \n",
       "Madison McFerrin      NaN  02zPEtdzUWnPToEVLRiQ7e   \n",
       "Scott Walker          NaN  04tBaW21jyUfeP5iqiKBVq   \n",
       "Jerico                NaN  050aWtsntLl4HdCJSoCNDa   \n",
       "CocoRosie             NaN  05fo024EFotg9songSENOZ   \n",
       "\n",
       "                                                    uri  \n",
       "name                                                     \n",
       "Kamaal Williams   spotify:artist:01mXk9IDlVczWwZvVHAiIS  \n",
       "Madison McFerrin  spotify:artist:02zPEtdzUWnPToEVLRiQ7e  \n",
       "Scott Walker      spotify:artist:04tBaW21jyUfeP5iqiKBVq  \n",
       "Jerico            spotify:artist:050aWtsntLl4HdCJSoCNDa  \n",
       "CocoRosie         spotify:artist:05fo024EFotg9songSENOZ  \n",
       "\n",
       "[5 rows x 25 columns]"
      ]
     },
     "execution_count": 4,
     "metadata": {},
     "output_type": "execute_result"
    }
   ],
   "source": [
    "user_artists.head()"
   ]
  },
  {
   "cell_type": "markdown",
   "metadata": {},
   "source": [
    "That's a lot of columns! I doubt your browser can even show them all on screen. If you don't recognize the artists, it's possible the app failed to download your data from Spotify and you are using the default data from my own listening history. Make sure you ran the cell with the command `user_followed_csv()`. If that cell failed to execute properly, I'm sorry. You'll have to make do with the default data. "
   ]
  },
  {
   "cell_type": "code",
   "execution_count": 6,
   "metadata": {},
   "outputs": [
    {
     "data": {
      "text/plain": [
       "name\n",
       "Kamaal Williams       46\n",
       "Madison McFerrin      47\n",
       "Scott Walker          49\n",
       "Jerico                 2\n",
       "CocoRosie             49\n",
       "                      ..\n",
       "Pauline Anna Strom    31\n",
       "BADBADNOTGOOD         63\n",
       "King Geedorah         55\n",
       "Les Hommes            29\n",
       "Ghostface Killah      65\n",
       "Name: popularity, Length: 715, dtype: int64"
      ]
     },
     "execution_count": 6,
     "metadata": {},
     "output_type": "execute_result"
    }
   ],
   "source": [
    "user_artists['popularity']"
   ]
  },
  {
   "cell_type": "code",
   "execution_count": null,
   "metadata": {},
   "outputs": [],
   "source": []
  }
 ],
 "metadata": {
  "kernelspec": {
   "display_name": "Python 3",
   "language": "python",
   "name": "python3"
  },
  "language_info": {
   "codemirror_mode": {
    "name": "ipython",
    "version": 3
   },
   "file_extension": ".py",
   "mimetype": "text/x-python",
   "name": "python",
   "nbconvert_exporter": "python",
   "pygments_lexer": "ipython3",
   "version": "3.9.1"
  }
 },
 "nbformat": 4,
 "nbformat_minor": 4
}

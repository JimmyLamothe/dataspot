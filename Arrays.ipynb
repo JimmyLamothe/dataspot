{
 "cells": [
  {
   "cell_type": "markdown",
   "metadata": {},
   "source": [
    "This lesson follows lesson 4.4 in the [EdX Data 8](https://courses.edx.org/courses/course-v1:BerkeleyX+Data8.1x+2T2020/course/) class and [chapter 5.1](https://www.inferentialthinking.com/chapters/05/1/Arrays.html) in the textbook, explaining arrays, which are very similar in numpy. As always, consult the textbook or the lesson (if you are enrolled) for the theory. Basically, arrays are lists of variables we can modify all at once."
   ]
  },
  {
   "cell_type": "markdown",
   "metadata": {},
   "source": [
    "The equivalent to `make_array` in numpy is simply `array`. Let's create an array of integers:"
   ]
  },
  {
   "cell_type": "code",
   "execution_count": 36,
   "metadata": {},
   "outputs": [],
   "source": [
    "import pandas as pd\n",
    "import numpy as np"
   ]
  },
  {
   "cell_type": "code",
   "execution_count": 37,
   "metadata": {},
   "outputs": [],
   "source": [
    "numpy_array = np.array([1,2,3])"
   ]
  },
  {
   "cell_type": "markdown",
   "metadata": {},
   "source": [
    "Don't forget to give the arguments in list form (inside brackets). Let's multiply both arrays by 3:"
   ]
  },
  {
   "cell_type": "code",
   "execution_count": 38,
   "metadata": {},
   "outputs": [
    {
     "name": "stdout",
     "output_type": "stream",
     "text": [
      "Numpy array: <IntegerArray>\n",
      "[3, 6, 9]\n",
      "Length: 3, dtype: Int64\n"
     ]
    }
   ],
   "source": [
    "print('Numpy array:', pandas_array * 3)"
   ]
  },
  {
   "cell_type": "markdown",
   "metadata": {},
   "source": [
    "As you can see, each value inside the array was multiplied by 3.\n",
    "\n",
    "As long as all items are of the same type, an array can hold more than just numbers. Let's make one with strings:"
   ]
  },
  {
   "cell_type": "code",
   "execution_count": 61,
   "metadata": {},
   "outputs": [],
   "source": [
    "numpy_array = np.array(['one', 'two', 'three'])"
   ]
  },
  {
   "cell_type": "markdown",
   "metadata": {},
   "source": [
    "We can modify all the strings at once, just like with an integer array:"
   ]
  },
  {
   "cell_type": "code",
   "execution_count": 58,
   "metadata": {},
   "outputs": [
    {
     "data": {
      "text/plain": [
       "array(['ONE', 'TWO', 'THREE'], dtype='<U5')"
      ]
     },
     "execution_count": 58,
     "metadata": {},
     "output_type": "execute_result"
    }
   ],
   "source": [
    "np.char.upper(numpy_array)"
   ]
  },
  {
   "cell_type": "markdown",
   "metadata": {},
   "source": [
    "Pandas `Series` are built on top of numpy arrays. Each DataFrame we've seen is actually composed of multiple Series. Each Series will have one type, which Pandas will attempt to infer from the data. Let's see how this works in practice:"
   ]
  },
  {
   "cell_type": "code",
   "execution_count": 76,
   "metadata": {},
   "outputs": [],
   "source": [
    "integer_series = pd.Series([1,2,3])\n",
    "string_series = pd.Series(['one','two','three'])\n",
    "object_series = pd.Series(['one', 2, 'three'])"
   ]
  },
  {
   "cell_type": "markdown",
   "metadata": {},
   "source": [
    "The first two Series we created hold all the same values, so pandas will infer that should be the datatype for the Series."
   ]
  },
  {
   "cell_type": "code",
   "execution_count": 78,
   "metadata": {},
   "outputs": [
    {
     "name": "stdout",
     "output_type": "stream",
     "text": [
      "Integers:\n",
      " 0    1\n",
      "1    2\n",
      "2    3\n",
      "dtype: int64\n",
      "Strings:\n",
      " 0      one\n",
      "1      two\n",
      "2    three\n",
      "dtype: object\n"
     ]
    }
   ],
   "source": [
    "print('Integers:\\n', integer_series)\n",
    "print('Strings:\\n', string_series)"
   ]
  },
  {
   "cell_type": "code",
   "execution_count": null,
   "metadata": {},
   "outputs": [],
   "source": []
  }
 ],
 "metadata": {
  "kernelspec": {
   "display_name": "Python 3",
   "language": "python",
   "name": "python3"
  },
  "language_info": {
   "codemirror_mode": {
    "name": "ipython",
    "version": 3
   },
   "file_extension": ".py",
   "mimetype": "text/x-python",
   "name": "python",
   "nbconvert_exporter": "python",
   "pygments_lexer": "ipython3",
   "version": "3.9.1"
  }
 },
 "nbformat": 4,
 "nbformat_minor": 4
}

{
 "cells": [
  {
   "cell_type": "markdown",
   "metadata": {},
   "source": [
    "## Lesson 3.7\n",
    "\n",
    "This section follows lesson 3.7 of the EdX Data 8 class, which is not based on the textbook. It's a simple introduction to bar charts with Pandas."
   ]
  },
  {
   "cell_type": "markdown",
   "metadata": {},
   "source": [
    "First, let's load more data. Spotify knows more about artists than the basic data the API gives us when we ask for your top and followed artists. For example, it knows every track they've made that's available on Spotify. Let's get some information about those albums. Since this is a new notebook, we'll need to do the imports again, but we should still have the CSV file we created in the previous lesson. If not, we'll recreate it automatically. A lot of the code is the same as in the previous lesson."
   ]
  },
  {
   "cell_type": "code",
   "execution_count": 1,
   "metadata": {},
   "outputs": [
    {
     "name": "stdout",
     "output_type": "stream",
     "text": [
      "Configuration Succesful\n",
      "Configuration Succesful\n"
     ]
    }
   ],
   "source": [
    "import pandas as pd\n",
    "import numpy as np\n",
    "from dataspot import user_artists_csv\n",
    "user_artists_csv(force=True)\n",
    "with open('data/user_artists.csv', 'r') as csv_file:\n",
    "    user_artists = pd.read_csv(csv_file, index_col='name')"
   ]
  },
  {
   "cell_type": "markdown",
   "metadata": {},
   "source": [
    "Now, we'll query the Spotify API to create a new DataFrame with track information. "
   ]
  },
  {
   "cell_type": "code",
   "execution_count": null,
   "metadata": {},
   "outputs": [],
   "source": []
  },
  {
   "cell_type": "code",
   "execution_count": null,
   "metadata": {},
   "outputs": [],
   "source": []
  }
 ],
 "metadata": {
  "kernelspec": {
   "display_name": "Python 3",
   "language": "python",
   "name": "python3"
  },
  "language_info": {
   "codemirror_mode": {
    "name": "ipython",
    "version": 3
   },
   "file_extension": ".py",
   "mimetype": "text/x-python",
   "name": "python",
   "nbconvert_exporter": "python",
   "pygments_lexer": "ipython3",
   "version": "3.9.1"
  }
 },
 "nbformat": 4,
 "nbformat_minor": 4
}
